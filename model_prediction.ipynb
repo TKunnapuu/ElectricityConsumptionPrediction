{
 "cells": [
  {
   "cell_type": "code",
   "execution_count": 68,
   "metadata": {},
   "outputs": [],
   "source": [
    "import pandas as pd\n",
    "import numpy as np\n",
    "import sklearn\n",
    "from sklearn.ensemble import RandomForestRegressor\n",
    "from sklearn.model_selection import train_test_split\n"
   ]
  },
  {
   "cell_type": "markdown",
   "metadata": {},
   "source": [
    "### Load in the data from 'train.csv' and 'test.csv' files"
   ]
  },
  {
   "cell_type": "code",
   "execution_count": 69,
   "metadata": {},
   "outputs": [],
   "source": [
    "data = pd.read_csv('train.csv')"
   ]
  },
  {
   "cell_type": "markdown",
   "metadata": {},
   "source": [
    "### Data exploration"
   ]
  },
  {
   "cell_type": "code",
   "execution_count": 70,
   "metadata": {},
   "outputs": [],
   "source": [
    "# TODO\n"
   ]
  },
  {
   "cell_type": "markdown",
   "metadata": {},
   "source": [
    "### Data Preprocessing"
   ]
  },
  {
   "cell_type": "code",
   "execution_count": 71,
   "metadata": {},
   "outputs": [],
   "source": [
    "# Splitting time into month, day, hour columns\n",
    "#data['month'] = data['time'].apply(lambda x: int(x.split('-')[1]))\n",
    "#data['day'] = data['time'].apply(lambda x: int(x.split('-')[2].split(' ')[0]))\n",
    "#data['hour'] = data['time'].apply(lambda x: int(x.split(' ')[1].split(':')[0]))\n",
    "\n",
    "\n",
    "\n",
    "# Dropping time column\n",
    "data = data.drop(['time'], axis=1)\n",
    "data = data.fillna(0)\n",
    "\n"
   ]
  },
  {
   "cell_type": "markdown",
   "metadata": {},
   "source": [
    "### Split the data into training and testing sets"
   ]
  },
  {
   "cell_type": "code",
   "execution_count": 72,
   "metadata": {},
   "outputs": [
    {
     "name": "stdout",
     "output_type": "stream",
     "text": [
      "(8592, 11) (8592,)\n",
      "(5756, 11) (2836, 11) (5756,) (2836,)\n"
     ]
    }
   ],
   "source": [
    "X = data.drop(['consumption'], axis=1)\n",
    "y = data['consumption']\n",
    "print(X.shape, y.shape)\n",
    "\n",
    "X_train, X_test, y_train, y_test = train_test_split(\n",
    "    X, y, test_size=0.33, random_state=1)\n",
    "print(X_train.shape, X_test.shape, y_train.shape, y_test.shape)\n"
   ]
  },
  {
   "cell_type": "markdown",
   "metadata": {},
   "source": [
    "### Make a regression model using the training data"
   ]
  },
  {
   "cell_type": "code",
   "execution_count": 73,
   "metadata": {},
   "outputs": [],
   "source": [
    "rf = RandomForestRegressor(n_estimators=100, max_depth=10, random_state=42)"
   ]
  },
  {
   "cell_type": "code",
   "execution_count": 74,
   "metadata": {},
   "outputs": [],
   "source": [
    "model = rf.fit(X_train, y_train)"
   ]
  },
  {
   "cell_type": "code",
   "execution_count": 75,
   "metadata": {},
   "outputs": [
    {
     "data": {
      "text/plain": [
       "0.23541351239389885"
      ]
     },
     "execution_count": 75,
     "metadata": {},
     "output_type": "execute_result"
    }
   ],
   "source": [
    "model.score(X_test, y_test)"
   ]
  },
  {
   "cell_type": "markdown",
   "metadata": {},
   "source": [
    "### Make predictions using the testing data"
   ]
  },
  {
   "cell_type": "code",
   "execution_count": 76,
   "metadata": {},
   "outputs": [],
   "source": [
    "test_data = pd.read_csv('test.csv')\n",
    "#test_data['day'] = test_data['time'].apply(\n",
    "#    lambda x: int(x.split('-')[2].split(' ')[0]))\n",
    "#test_data['hour'] = test_data['time'].apply(\n",
    "#    lambda x: int(x.split(' ')[1].split(':')[0]))\n",
    "test_data = test_data.drop(['time'], axis=1)\n",
    "test_data = test_data.fillna(0)\n",
    "\n",
    "\n",
    "prediction = model.predict(test_data)\n",
    "\n",
    "\n",
    "test_data = pd.read_csv('test.csv')\n",
    "\n",
    "\n",
    "test_data['consumption'] = prediction\n",
    "\n",
    "submission = test_data[['time', 'consumption']]\n",
    "submission.to_csv('submission.csv', index=False)"
   ]
  },
  {
   "cell_type": "code",
   "execution_count": null,
   "metadata": {},
   "outputs": [],
   "source": []
  }
 ],
 "metadata": {
  "kernelspec": {
   "display_name": "Python 3.9.13 64-bit (microsoft store)",
   "language": "python",
   "name": "python3"
  },
  "language_info": {
   "codemirror_mode": {
    "name": "ipython",
    "version": 3
   },
   "file_extension": ".py",
   "mimetype": "text/x-python",
   "name": "python",
   "nbconvert_exporter": "python",
   "pygments_lexer": "ipython3",
   "version": "3.9.13"
  },
  "orig_nbformat": 4,
  "vscode": {
   "interpreter": {
    "hash": "ae09c68c39477c4784391d059b8298273eee9cb8e86c3c012bea0ae5961f1f7d"
   }
  }
 },
 "nbformat": 4,
 "nbformat_minor": 2
}
